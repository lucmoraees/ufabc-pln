{
  "nbformat": 4,
  "nbformat_minor": 0,
  "metadata": {
    "colab": {
      "provenance": [],
      "collapsed_sections": [
        "SAPCeLAkPs7K",
        "MjrJPbB6Wc8q",
        "xIP2DoACa7of"
      ],
      "include_colab_link": true
    },
    "kernelspec": {
      "name": "python3",
      "display_name": "Python 3"
    }
  },
  "cells": [
    {
      "cell_type": "markdown",
      "metadata": {
        "id": "view-in-github",
        "colab_type": "text"
      },
      "source": [
        "<a href=\"https://colab.research.google.com/github/lucmoraees/ufabc-pln/blob/main/2023_Q3_PLN_ATIVIDADE_PRA%CC%81TICA_03.ipynb\" target=\"_parent\"><img src=\"https://colab.research.google.com/assets/colab-badge.svg\" alt=\"Open In Colab\"/></a>"
      ]
    },
    {
      "cell_type": "markdown",
      "metadata": {
        "id": "Y6QILOdpOjwv"
      },
      "source": [
        "# **Processamento de Linguagem Natural [2023.Q3]**\n",
        "Prof. Alexandre Donizeti Alves"
      ]
    },
    {
      "cell_type": "markdown",
      "metadata": {
        "id": "8m67OOx9MX_3"
      },
      "source": [
        "### **ATIVIDADE PRÁTICA 03 [Tutorial sobre uma API]**\n",
        "\n",
        "---"
      ]
    },
    {
      "cell_type": "markdown",
      "metadata": {
        "id": "5Gk0nHKabBT-"
      },
      "source": [
        "A **ATIVIDADE PRÁTICA 03** deve ser feita utilizando o **Google Colab** com uma conta\n",
        "sua vinculada ao Gmail. O link do seu notebook, armazenado no Google Drive, além do link de um repositório no GitHub e os principais resultados da atividade, devem ser enviados usando o seguinte formulário:\n",
        "\n",
        "> https://forms.gle/nPsWnUuE5GCeXaiU8 (**AINDA EM CONSTRUÇÃO**)\n",
        "\n",
        "\n",
        "**IMPORTANTE**: A submissão deve ser feita APENAS POR UM INTEGRANTE DA EQUIPE até o dia 30/10 (segunda-feira - até às 23h59). Por favor, lembre-se de dar permissão de ACESSO IRRESTRITO para o professor da disciplina de PLN."
      ]
    },
    {
      "cell_type": "markdown",
      "metadata": {
        "id": "D7hJlilKM485"
      },
      "source": [
        "### **EQUIPE**\n",
        "\n",
        "---"
      ]
    },
    {
      "cell_type": "markdown",
      "source": [
        "**POR FAVOR, PREENCHER OS INTEGRANDES DA SUA EQUIPE:**\n",
        "\n",
        "\n",
        "**Integrante 01:**\n",
        "\n",
        "`Por favor, informe o seu nome completo e RA:` Felipe Toguchi 11202130303\n",
        "\n",
        "**Integrante 02:**\n",
        "\n",
        "`Por favor, informe o seu nome completo e RA:` Lucas Moraes de Carvalho 11202020345\n",
        "\n",
        "**Integrante 03:**\n",
        "\n",
        "`Por favor, informe o seu nome completo e RA:` Munir Abrão Dib 11202130880"
      ],
      "metadata": {
        "id": "tnIArN0QY-Ek"
      }
    },
    {
      "cell_type": "markdown",
      "source": [
        "### **API**\n",
        "---"
      ],
      "metadata": {
        "id": "6yExhaebs-nD"
      }
    },
    {
      "cell_type": "markdown",
      "source": [
        "**QUAL A API SELECIONADA POR SUA EQUIPE?**\n",
        "\n",
        "`API: ` Github\n",
        "\n",
        "`Site oficial: ` https://github.com\n",
        "\n",
        "`Link para a documentação oficial: ` https://docs.github.com/en"
      ],
      "metadata": {
        "id": "DjJM_qhEZRy6"
      }
    },
    {
      "cell_type": "markdown",
      "metadata": {
        "id": "EtjgWQRzNphL"
      },
      "source": [
        "### **DESCRIÇÃO**\n",
        "---"
      ]
    },
    {
      "cell_type": "markdown",
      "source": [
        "Implementar um `notebook` no `Google Colab` para demonstrar passo a passo como usar uma determinada **API** em `Python`, ou seja, criar um **TUTORIAL** destacando desde a instalação e configuração da **API** até as principais finalidades. O **TUTORIAL** deve ser o mais completo possível, com diversos exemplos de uso e permitindo ser facilmente reproduzido.\n",
        "\n",
        "A **API** deve ser selecionada na seguinte planilha:\n",
        "\n",
        "https://docs.google.com/spreadsheets/d/1-Q1szJ3UmoE2_3LtcRQyqid5fPIcnpsR3XAPnoxLj2o/edit?usp=sharing\n",
        "\n",
        ">\n",
        "\n",
        "**IMPORTANTE:** É obrigatório usar o e-mail da UFABC.\n",
        "\n",
        ">\n",
        "\n",
        "**DICA:** Por favor, insira o seu nome ou da sua equipe na ordem definida na planilha. A escolha da **API** deve ser feita de acordo com a lista disponibilizada na planilha. Cada **API** só pode ser escolhida por, no **MÁXIMO**, 2 equipes."
      ],
      "metadata": {
        "id": "fXTwkiiGs2BV"
      }
    },
    {
      "cell_type": "markdown",
      "source": [
        "### **ROTEIRO PARA APRESENTAÇÃO DE UMA API**\n",
        "\n",
        "---\n",
        ">\n",
        "\n",
        "\n",
        "**IMPORTANTE**: consulta feita no ChatGPT\n",
        "\n",
        ">\n",
        "\n",
        "Como escrever um tutorial sobre uma API em Python usando o Google Colab com foco nas etapas essenciais. Aqui está um guia rápido:\n",
        "\n",
        ">\n",
        "\n",
        "* **Passo 01: Introdução**\n",
        "\n",
        "  >  Apresente a API que você está explicando.\n",
        "\n",
        "  >  Explique por que é útil ou relevante.\n",
        "\n",
        "* **Passo 02: Configuração no Google Colab**\n",
        "\n",
        "  > Explique como os leitores podem abrir um novo notebook no Google Colab.\n",
        "\n",
        "  > Mostre como importar bibliotecas necessárias.\n",
        "\n",
        "  > Instrua sobre como instalar quaisquer bibliotecas adicionais, se necessário.\n",
        "\n",
        "* **Passo 03: Autenticação (se aplicável)**\n",
        "\n",
        "  > Descreva como configurar a autenticação, caso a API exija.\n",
        "\n",
        "  > Forneça orientações sobre a obtenção de chaves de API ou tokens.\n",
        "\n",
        "* **Passo 04: Utilização Básica da API**\n",
        "\n",
        "  > Demonstre como fazer uma solicitação simples à API.\n",
        "\n",
        "  > Mostre como processar a resposta da API.\n",
        "\n",
        "* **Passo 05: Exemplos Práticos**\n",
        "\n",
        "  > Forneça exemplos práticos e úteis que os leitores podem seguir.\n",
        "\n",
        "  > Mostre como aplicar a API em cenários do mundo real.\n",
        "\n",
        "\n",
        "* **Passo 06: Considerações**\n",
        "\n",
        "  > Recapitule os principais pontos do tutorial.\n",
        "\n",
        "  > Incentive os leitores a explorar mais a API e experimentar por conta própria.\n",
        "\n",
        "* **Passo 07: Publicação**\n",
        "\n",
        "   > Considere compartilhar seu tutorial em plataformas como Medium, GitHub (obrigatório) ou seu blog pessoal.\n",
        "\n",
        "* **Passo 08: Promoção**\n",
        "\n",
        "  > Compartilhe seu tutorial nas redes sociais, grupos de desenvolvedores e fóruns relevantes.\n",
        "\n",
        "**IMPORTANTE**: Lembre-se de manter o tutorial curto e direto ao ponto. Use exemplos de código eficazes e forneça informações práticas que os leitores possam seguir facilmente. O Google Colab é uma ótima plataforma para compartilhar tutoriais, pois permite que os leitores executem o código diretamente no navegador.\n"
      ],
      "metadata": {
        "id": "wbICIIGcYPNf"
      }
    },
    {
      "cell_type": "markdown",
      "source": [
        "### **CRITÉRIOS DE AVALIAÇÃO**\n",
        "---\n"
      ],
      "metadata": {
        "id": "gWsBYQNtxmum"
      }
    },
    {
      "cell_type": "markdown",
      "source": [
        "As 3 equipes que **criarem os melhores tutoriais**  terão o peso diminuido na AVALIAÇÃO (Prova Escrita) em **25%** (caindo de 40 para 30).\n",
        "\n",
        "**IMPORTANTE**: a diminuição no peso da AVALIAÇÃO será aplicado para todos os membros da equipe.\n",
        "\n",
        "\n",
        "\n"
      ],
      "metadata": {
        "id": "5iHdx4BXYruQ"
      }
    },
    {
      "cell_type": "markdown",
      "source": [
        "### **TUTORIAL**\n",
        "---"
      ],
      "metadata": {
        "id": "nw09lujGvfjc"
      }
    },
    {
      "cell_type": "markdown",
      "source": [
        "**API GitHub**"
      ],
      "metadata": {
        "id": "5q9zcrJj0n4H"
      }
    },
    {
      "cell_type": "markdown",
      "source": [
        "#### **INTRODUÇÃO**"
      ],
      "metadata": {
        "id": "ZM2EJhRIaaa2"
      }
    },
    {
      "cell_type": "markdown",
      "source": [
        "**Descrição da API**"
      ],
      "metadata": {
        "id": "FjG5RIW5bMfd"
      }
    },
    {
      "cell_type": "markdown",
      "source": [
        "A API do GitHub em Python é uma poderosa ferramenta que permite aos desenvolvedores interagirem com a plataforma GitHub de forma programática. O GitHub é uma das maiores e mais influentes plataformas de gerenciamento de código-fonte do mundo, com milhões de repositórios de código e uma vasta comunidade de desenvolvedores. A API do GitHub oferece acesso a recursos e funcionalidades do GitHub por meio de solicitações HTTP, possibilitando a automação de tarefas, a criação de integrações personalizadas e a análise de dados relacionados aos repositórios, issues, pull requests e muito mais.inserir texto aqui...\n",
        "\n",
        "\n",
        "\n"
      ],
      "metadata": {
        "id": "7kndSzDVbQkd"
      }
    },
    {
      "cell_type": "markdown",
      "source": [
        "**Descrição da API**"
      ],
      "metadata": {
        "id": "CMb-8ooRtEL1"
      }
    },
    {
      "cell_type": "markdown",
      "source": [
        "A API do GitHub é essencial para qualquer pessoa envolvida no desenvolvimento de software por várias razões:\n",
        "\n",
        "1.   **Automação de Tarefas**: Com a API, você pode automatizar tarefas tediosas, como a criação de novos repositórios, a adição de colaboradores, o gerenciamento de issues e pull requests, entre outras. Isso economiza tempo e permite que você se concentre em tarefas mais críticas.\n",
        "2.   **Integrações Personalizadas**: Você pode criar integrações personalizadas que se alinham perfeitamente com o fluxo de trabalho da sua equipe. Isso inclui a criação de ferramentas de CI/CD, notificações personalizadas e muito mais.\n",
        "3.   **Análise de Dados**: A API permite acessar dados valiosos relacionados aos seus repositórios, projetos e colaboradores. Você pode criar painéis de controle, relatórios e insights para tomar decisões informadas.\n",
        "4.   **Colaboração Eficiente**: Facilita a colaboração entre equipes, pois você pode automatizar a atribuição de tarefas, revisões de código, e a sincronização de repositórios entre diferentes plataformas.\n",
        "5.   **Acesso à Comunidade**: A API do GitHub conecta você a uma comunidade global de desenvolvedores. Você pode participar de projetos de código aberto, criar extensões e contribuir para a evolução da plataforma.\n",
        "\n",
        "Nesta documentação, vamos explorar como utilizar a API do GitHub em Python, fornecendo exemplos práticos e orientações para ajudá-lo a tirar o máximo proveito dessa ferramenta poderosa. Aprender a utilizar a API do GitHub em Python abrirá portas para inúmeras possibilidades de automação e personalização em seu desenvolvimento de software."
      ],
      "metadata": {
        "id": "mTpTj1cStHrt"
      }
    },
    {
      "cell_type": "markdown",
      "source": [
        "#### **CONFIGURAÇÃO**"
      ],
      "metadata": {
        "id": "5DIH_lmdaqrh"
      }
    },
    {
      "cell_type": "markdown",
      "source": [
        "**1. Abertura de um Novo Notebook no Google Colab**"
      ],
      "metadata": {
        "id": "2rrojKDKztQQ"
      }
    },
    {
      "cell_type": "markdown",
      "source": [
        "O Google Colab é uma plataforma gratuita baseada na web que oferece um ambiente Jupyter Notebook hospedado na nuvem. Para começar, siga estas etapas:\n",
        "\n",
        "1.   Acesse o site do Google Colab.\n",
        "2.   Faça login com sua conta do Google ou crie uma nova, se necessário\n",
        "3.   No painel inicial, clique em \"New Notebook\" (Novo Notebook) para criar um novo notebook em branco.\n",
        "\n",
        "Agora você está pronto para começar a configurar seu ambiente para utilizar a API do GitHub em Python."
      ],
      "metadata": {
        "id": "FRv9Ef31zw1V"
      }
    },
    {
      "cell_type": "markdown",
      "source": [
        "**2. Importação das Bibliotecas Necessárias**"
      ],
      "metadata": {
        "id": "RXyovTMTz77n"
      }
    },
    {
      "cell_type": "markdown",
      "source": [
        "No Google Colab, você pode importar as bibliotecas Python necessárias diretamente no seu notebook. Para utilizar a API do GitHub, você precisará importar as bibliotecas populares, como requests para fazer solicitações HTTP e json para lidar com dados JSON. Você também pode importar bibliotecas adicionais conforme necessário.\n",
        "\n",
        "```\n",
        "import requests\n",
        "import json\n",
        "```\n"
      ],
      "metadata": {
        "id": "qtB3pW7z0BjC"
      }
    },
    {
      "cell_type": "code",
      "source": [
        "import requests\n",
        "import json"
      ],
      "metadata": {
        "id": "uEP-IEig0SQ3"
      },
      "execution_count": null,
      "outputs": []
    },
    {
      "cell_type": "markdown",
      "source": [
        "#### **AUTENTICAÇÃO**\n",
        "\n"
      ],
      "metadata": {
        "id": "SwZgsj4narLo"
      }
    },
    {
      "cell_type": "markdown",
      "source": [
        "A maioria das solicitações à API do GitHub requer autenticação para garantir a segurança e o acesso aos recursos apropriados. A autenticação é realizada por meio de tokens de acesso pessoal (Personal Access Tokens), dependendo do tipo de acesso que você precisa.\n",
        "\n",
        "Para adquirir um token de autenticação pessoal, siga as etapas abaixo:\n",
        "\n",
        "\n",
        "\n",
        "1.   Faça login na sua conta do GitHub.\n",
        "2.   Clique na sua foto de perfil no canto superior direito e vá para \"Settings\" (Configurações).\n",
        "3.   No menu lateral esquerdo, selecione \"Developer settings\" (Configurações de desenvolvedor).\n",
        "4.   Clique em \"Personal access tokens\" (Tokens de acesso pessoal).\n",
        "5.   Clique na opção \"Fine-grained tokens\".\n",
        "6.   Clique em \"Generate token\" (Gerar token) e siga as instruções para configurar as permissões necessárias.\n",
        "\n",
        "Certifique-se de que o token gerado tenha as permissões adequadas para as operações que você planeja realizar com a API do GitHub.\n",
        "\n",
        "Insira **seu token de acesso** no campo abaixo"
      ],
      "metadata": {
        "id": "wD63-bNezV9L"
      }
    },
    {
      "cell_type": "code",
      "source": [
        "TOKEN_AUTH = \"\""
      ],
      "metadata": {
        "id": "rRuSJ6N8zaL6"
      },
      "execution_count": null,
      "outputs": []
    },
    {
      "cell_type": "markdown",
      "source": [
        "Antes de começar a fazer solicitações à API do GitHub, é importante definir a BASE_URL e o cabeçalho (header) que serão usados em todas as solicitações. A BASE_URL é o ponto de partida para todas as URLs das solicitações à API do GitHub, e o cabeçalho (header) inclui informações cruciais, como a autenticação e o formato dos dados que você espera receber."
      ],
      "metadata": {
        "id": "3QGCrQ_k0sJO"
      }
    },
    {
      "cell_type": "markdown",
      "source": [
        "**Definindo a BASE_URL**"
      ],
      "metadata": {
        "id": "DbTvgwbE0kes"
      }
    },
    {
      "cell_type": "code",
      "source": [
        "BASE_URL = \"https://api.github.com\""
      ],
      "metadata": {
        "id": "oqM3mRBsbBYZ"
      },
      "execution_count": null,
      "outputs": []
    },
    {
      "cell_type": "markdown",
      "source": [
        "**Configurando o Cabeçalho (Header)**"
      ],
      "metadata": {
        "id": "1EFAxSnU0wmx"
      }
    },
    {
      "cell_type": "markdown",
      "source": [
        "O cabeçalho (header) é essencial para se comunicar eficazmente com a API do GitHub. Ele geralmente contém informações importantes, como o token de acesso pessoal (Bearer token) para autenticação e o formato de resposta desejado."
      ],
      "metadata": {
        "id": "HFdvPqD5061X"
      }
    },
    {
      "cell_type": "code",
      "source": [
        "headers = {\n",
        "    \"Accept\": \"application/vnd.github+json\",\n",
        "    \"Authorization\": f\"Bearer {TOKEN_AUTH}\"\n",
        "}"
      ],
      "metadata": {
        "id": "CzZOyMEP00G8"
      },
      "execution_count": null,
      "outputs": []
    },
    {
      "cell_type": "markdown",
      "source": [
        "#### **UTILIZAÇÃO BÁSICA**"
      ],
      "metadata": {
        "id": "ZjXBfNHwarfV"
      }
    },
    {
      "cell_type": "markdown",
      "source": [
        "Nesta seção, você aprenderá como fazer uma solicitação simples à API do GitHub e como processar a resposta recebida. Vamos começar com uma solicitação GET para obter informações sobre um usuário específico."
      ],
      "metadata": {
        "id": "Ii6QgNqm1rM9"
      }
    },
    {
      "cell_type": "markdown",
      "source": [
        "**Fazendo uma Solicitação GET**"
      ],
      "metadata": {
        "id": "-AXyB69d1saO"
      }
    },
    {
      "cell_type": "code",
      "source": [
        "username = '' # Defina o username do usuário que você seja buscar informações"
      ],
      "metadata": {
        "id": "I9Qc1nQ_MLQc"
      },
      "execution_count": null,
      "outputs": []
    },
    {
      "cell_type": "code",
      "source": [
        "import requests\n",
        "\n",
        "# Defina a URL da solicitação, por exemplo, para obter informações sobre o usuário:\n",
        "url = f\"{BASE_URL}/users/{username}\"\n",
        "\n",
        "# Faça a solicitação GET\n",
        "response = requests.get(url, headers=headers)\n",
        "\n",
        "# Verifique se a solicitação foi bem-sucedida (código de status 200 indica sucesso)\n",
        "if response.status_code == 200:\n",
        "    # Processar a resposta JSON\n",
        "    data = response.json()\n",
        "    # Exiba os dados relevantes, por exemplo, o nome do usuário:\n",
        "    print(\"Nome de usuário: \" + data[\"login\"])\n",
        "else:\n",
        "    # Lidar com erros, se houver\n",
        "    print(\"Falha na solicitação. Código de status: \" + str(response.status_code))\n",
        "    print(\"Resposta da API: \" + response.text)"
      ],
      "metadata": {
        "id": "aCUS07hK1uX2"
      },
      "execution_count": null,
      "outputs": []
    },
    {
      "cell_type": "markdown",
      "source": [
        "**Processando a Resposta da API**"
      ],
      "metadata": {
        "id": "O_Zq-2u12vPu"
      }
    },
    {
      "cell_type": "markdown",
      "source": [
        "A resposta da API é geralmente retornada no formato JSON. Para processar a resposta, você pode usar o método response.json() para converter os dados JSON em um objeto Python. Em seguida, você pode acessar os dados desejados, como demonstrado no exemplo.\n",
        "\n",
        "Este é apenas um exemplo básico de como fazer uma solicitação GET e processar a resposta. A API do GitHub oferece uma ampla variedade de endpoints e funcionalidades, e você pode adaptar esse exemplo para suas necessidades específicas."
      ],
      "metadata": {
        "id": "cC8NJWB32yAM"
      }
    },
    {
      "cell_type": "markdown",
      "source": [
        "#### **EXEMPLOS PRÁTICOS**"
      ],
      "metadata": {
        "id": "marqph_raryN"
      }
    },
    {
      "cell_type": "markdown",
      "source": [
        "Para esta sessão você preencher os valores das variáveis de acordo com as suas informações"
      ],
      "metadata": {
        "id": "DcSUJTLaMuJZ"
      }
    },
    {
      "cell_type": "markdown",
      "source": [
        "##### **Repositories** #####"
      ],
      "metadata": {
        "id": "SAPCeLAkPs7K"
      }
    },
    {
      "cell_type": "markdown",
      "source": [
        "**[GET] Listar repositórios do usuário**"
      ],
      "metadata": {
        "id": "rbszTPAJSKsK"
      }
    },
    {
      "cell_type": "code",
      "source": [
        "username = '' # Username dono do repositório"
      ],
      "metadata": {
        "id": "Q3R4XRWuQiPS"
      },
      "execution_count": null,
      "outputs": []
    },
    {
      "cell_type": "code",
      "source": [
        "url = f\"{BASE_URL}/users/{username}/repos\""
      ],
      "metadata": {
        "id": "aL49vegTa_4e"
      },
      "execution_count": null,
      "outputs": []
    },
    {
      "cell_type": "code",
      "source": [
        "import requests\n",
        "\n",
        "response = requests.get(url, headers=headers)\n",
        "\n",
        "if response.status_code == 200:\n",
        "    data = response.json()\n",
        "    formatted_data = json.dumps(data, indent=4)\n",
        "    print(formatted_data)\n",
        "else:\n",
        "    print(\"Falha na solicitação. Código de status: \" + str(response.status_code))\n",
        "    print(\"Resposta da API: \" + response.text)"
      ],
      "metadata": {
        "id": "AhQ8vsi_QMsd"
      },
      "execution_count": null,
      "outputs": []
    },
    {
      "cell_type": "markdown",
      "source": [
        "**[GET] Listar os contribuidores do repositório**"
      ],
      "metadata": {
        "id": "mHzZyDW9STZ_"
      }
    },
    {
      "cell_type": "code",
      "source": [
        "owner = '' # Owner do repositório\n",
        "repo = '' # Nome do repositório"
      ],
      "metadata": {
        "id": "31ESJhF9So4j"
      },
      "execution_count": null,
      "outputs": []
    },
    {
      "cell_type": "code",
      "source": [
        "url = f\"{BASE_URL}/repos/{owner}/{repo}/contributors\""
      ],
      "metadata": {
        "id": "1nwyA93LSqrF"
      },
      "execution_count": null,
      "outputs": []
    },
    {
      "cell_type": "code",
      "source": [
        "import requests\n",
        "\n",
        "response = requests.get(url, headers=headers)\n",
        "\n",
        "if response.status_code == 200:\n",
        "    data = response.json()\n",
        "    formatted_data = json.dumps(data, indent=4)\n",
        "    print(formatted_data)\n",
        "else:\n",
        "    print(\"Falha na solicitação. Código de status: \" + str(response.status_code))\n",
        "    print(\"Resposta da API: \" + response.text)"
      ],
      "metadata": {
        "id": "t-XC1A4LSqjw"
      },
      "execution_count": null,
      "outputs": []
    },
    {
      "cell_type": "markdown",
      "source": [
        "**[GET] Buscar o conteúdo de um arquivo no repositório**"
      ],
      "metadata": {
        "id": "oqJLPOFWT3uF"
      }
    },
    {
      "cell_type": "code",
      "source": [
        "owner = '' # Owner do repositório\n",
        "repo = '' # Nome do repositório\n",
        "path = '' # Path do arquivo"
      ],
      "metadata": {
        "id": "aGK-J8j7ULMT"
      },
      "execution_count": null,
      "outputs": []
    },
    {
      "cell_type": "code",
      "source": [
        "url = f\"{BASE_URL}/repos/{owner}/{repo}/contents/{path}\""
      ],
      "metadata": {
        "id": "ZIStKQ5lUM6E"
      },
      "execution_count": null,
      "outputs": []
    },
    {
      "cell_type": "code",
      "source": [
        "import requests\n",
        "\n",
        "response = requests.get(url, headers=headers)\n",
        "\n",
        "if response.status_code == 200:\n",
        "    data = response.json()\n",
        "    formatted_data = json.dumps(data, indent=4)\n",
        "    print(formatted_data)\n",
        "else:\n",
        "    print(\"Falha na solicitação. Código de status: \" + str(response.status_code))\n",
        "    print(\"Resposta da API: \" + response.text)"
      ],
      "metadata": {
        "id": "bZay6brRUNQU"
      },
      "execution_count": null,
      "outputs": []
    },
    {
      "cell_type": "markdown",
      "source": [
        "##### **Search** #####"
      ],
      "metadata": {
        "id": "MjrJPbB6Wc8q"
      }
    },
    {
      "cell_type": "markdown",
      "source": [
        "Para melhor entendimento de como construir as queries acesse o link https://docs.github.com/en/rest/search/search?apiVersion=2022-11-28#constructing-a-search-query"
      ],
      "metadata": {
        "id": "97uu9RDWZGYw"
      }
    },
    {
      "cell_type": "markdown",
      "source": [
        "**[GET] Busca de respositórios**"
      ],
      "metadata": {
        "id": "GSKYlCEiWtLL"
      }
    },
    {
      "cell_type": "code",
      "source": [
        "page = 1 # Número da página\n",
        "per_page = 10 # Quantidade de itens por página\n",
        "query = 'language:python' # Parâmetro de busca (Este caso estamos buscando os repositórios com código em python)"
      ],
      "metadata": {
        "id": "Syrs_cGvXWtS"
      },
      "execution_count": null,
      "outputs": []
    },
    {
      "cell_type": "code",
      "source": [
        "url = f\"{BASE_URL}/search/repositories?page={page}&per_page={per_page}&q={query}\""
      ],
      "metadata": {
        "id": "OGQ8niwlXp1A"
      },
      "execution_count": null,
      "outputs": []
    },
    {
      "cell_type": "code",
      "source": [
        "import requests\n",
        "\n",
        "response = requests.get(url, headers=headers)\n",
        "\n",
        "if response.status_code == 200:\n",
        "    data = response.json()\n",
        "    formatted_data = json.dumps(data, indent=4)\n",
        "    print(formatted_data)\n",
        "else:\n",
        "    print(\"Falha na solicitação. Código de status: \" + str(response.status_code))\n",
        "    print(\"Resposta da API: \" + response.text)"
      ],
      "metadata": {
        "id": "h4neEusMXrS0"
      },
      "execution_count": null,
      "outputs": []
    },
    {
      "cell_type": "markdown",
      "source": [
        "**[GET] Busca de usuários**"
      ],
      "metadata": {
        "id": "mYn6QWbmYvCT"
      }
    },
    {
      "cell_type": "code",
      "source": [
        "page = 1 # Número da página\n",
        "per_page = 10 # Quantidade de itens por página\n",
        "query = 'tom+repos:%3E42+followers:%3E1000' # Parâmetro de busca (Este caso estamos buscando uma lista de usuários populares)"
      ],
      "metadata": {
        "id": "gzwfpycBYzPn"
      },
      "execution_count": null,
      "outputs": []
    },
    {
      "cell_type": "code",
      "source": [
        "url = f\"{BASE_URL}/search/users?page={page}&per_page={per_page}&q={query}\""
      ],
      "metadata": {
        "id": "EQja8mgPY279"
      },
      "execution_count": null,
      "outputs": []
    },
    {
      "cell_type": "code",
      "source": [
        "import requests\n",
        "\n",
        "response = requests.get(url, headers=headers)\n",
        "\n",
        "if response.status_code == 200:\n",
        "    data = response.json()\n",
        "    formatted_data = json.dumps(data, indent=4)\n",
        "    print(formatted_data)\n",
        "else:\n",
        "    print(\"Falha na solicitação. Código de status: \" + str(response.status_code))\n",
        "    print(\"Resposta da API: \" + response.text)"
      ],
      "metadata": {
        "id": "05IRjW_AY48l"
      },
      "execution_count": null,
      "outputs": []
    },
    {
      "cell_type": "markdown",
      "source": [
        "##### **Commits** #####"
      ],
      "metadata": {
        "id": "V-6j2XN5_dMc"
      }
    },
    {
      "cell_type": "markdown",
      "source": [
        "**[GET] Listar os commits de um repositório**"
      ],
      "metadata": {
        "id": "Dxz9SHMz_plY"
      }
    },
    {
      "cell_type": "code",
      "source": [
        "owner = '' # Username do owner do repositório\n",
        "repo = '' # Nome do repositório"
      ],
      "metadata": {
        "id": "552OwBIO_pbl"
      },
      "execution_count": null,
      "outputs": []
    },
    {
      "cell_type": "code",
      "source": [
        "url = f\"{BASE_URL}/repos/{owner}/{repo}/commits\""
      ],
      "metadata": {
        "id": "js8H2nAA_nLJ"
      },
      "execution_count": null,
      "outputs": []
    },
    {
      "cell_type": "code",
      "source": [
        "import requests\n",
        "\n",
        "response = requests.get(url, headers=headers)\n",
        "\n",
        "if response.status_code == 200:\n",
        "    data = response.json()\n",
        "    formatted_data = json.dumps(data, indent=4)\n",
        "    print(formatted_data)\n",
        "else:\n",
        "    print(\"Falha na solicitação. Código de status: \" + str(response.status_code))\n",
        "    print(\"Resposta da API: \" + response.text)"
      ],
      "metadata": {
        "id": "RHR0GnOf_o9a"
      },
      "execution_count": null,
      "outputs": []
    },
    {
      "cell_type": "markdown",
      "source": [
        "**[GET] Buscar um commit**"
      ],
      "metadata": {
        "id": "6eMly1h9FEOr"
      }
    },
    {
      "cell_type": "code",
      "source": [
        "owner = '' # Username do owner do repositório\n",
        "repo = '' # Nome do repositório\n",
        "comit_sha = '' # SHA de referência do commit (Você consegue encontrar o sha na requisição anterior)"
      ],
      "metadata": {
        "id": "sghL7BlVFD3X"
      },
      "execution_count": null,
      "outputs": []
    },
    {
      "cell_type": "code",
      "source": [
        "url = f\"{BASE_URL}/repos/{owner}/{repo}/commits/{comit_sha}\""
      ],
      "metadata": {
        "id": "k9n3-MkNFDz6"
      },
      "execution_count": null,
      "outputs": []
    },
    {
      "cell_type": "code",
      "source": [
        "import requests\n",
        "\n",
        "response = requests.get(url, headers=headers)\n",
        "\n",
        "if response.status_code == 200:\n",
        "    data = response.json()\n",
        "    formatted_data = json.dumps(data, indent=4)\n",
        "    print(formatted_data)\n",
        "else:\n",
        "    print(\"Falha na solicitação. Código de status: \" + str(response.status_code))\n",
        "    print(\"Resposta da API: \" + response.text)"
      ],
      "metadata": {
        "id": "t9mrWe2OFSi7"
      },
      "execution_count": null,
      "outputs": []
    },
    {
      "cell_type": "markdown",
      "source": [
        "##### **Branches** #####"
      ],
      "metadata": {
        "id": "CA3xdsEGItAt"
      }
    },
    {
      "cell_type": "markdown",
      "source": [
        "**[GET] Listar as branches de um repositório**"
      ],
      "metadata": {
        "id": "Uv32ef4rGHiF"
      }
    },
    {
      "cell_type": "code",
      "source": [
        "owner = '' # Username do owner do repositório\n",
        "repo = '' # Nome do repositório"
      ],
      "metadata": {
        "id": "uJrAdypnGHWD"
      },
      "execution_count": null,
      "outputs": []
    },
    {
      "cell_type": "code",
      "source": [
        "url = f\"{BASE_URL}/repos/{owner}/{repo}/branches\""
      ],
      "metadata": {
        "id": "qdVABJXQGNPn"
      },
      "execution_count": null,
      "outputs": []
    },
    {
      "cell_type": "code",
      "source": [
        "import requests\n",
        "\n",
        "response = requests.get(url, headers=headers)\n",
        "\n",
        "if response.status_code == 200:\n",
        "    data = response.json()\n",
        "    formatted_data = json.dumps(data, indent=4)\n",
        "    print(formatted_data)\n",
        "else:\n",
        "    print(\"Falha na solicitação. Código de status: \" + str(response.status_code))\n",
        "    print(\"Resposta da API: \" + response.text)"
      ],
      "metadata": {
        "id": "MFYd8TP1GOux"
      },
      "execution_count": null,
      "outputs": []
    },
    {
      "cell_type": "markdown",
      "source": [
        "**[GET] Buscar uma branch de um repositório**"
      ],
      "metadata": {
        "id": "O8ypFHAMI9hv"
      }
    },
    {
      "cell_type": "code",
      "source": [
        "owner = '' # Username do owner do repositório\n",
        "repo = '' # Nome do repositório\n",
        "branch_name = 'main' # Nome da branch"
      ],
      "metadata": {
        "id": "6sFJxg41JEW5"
      },
      "execution_count": null,
      "outputs": []
    },
    {
      "cell_type": "code",
      "source": [
        "url = f\"{BASE_URL}/repos/{owner}/{repo}/branches/{branch_name}\""
      ],
      "metadata": {
        "id": "72PVOkZcJEoa"
      },
      "execution_count": null,
      "outputs": []
    },
    {
      "cell_type": "code",
      "source": [
        "import requests\n",
        "\n",
        "response = requests.get(url, headers=headers)\n",
        "\n",
        "if response.status_code == 200:\n",
        "    data = response.json()\n",
        "    formatted_data = json.dumps(data, indent=4)\n",
        "    print(formatted_data)\n",
        "else:\n",
        "    print(\"Falha na solicitação. Código de status: \" + str(response.status_code))\n",
        "    print(\"Resposta da API: \" + response.text)"
      ],
      "metadata": {
        "id": "225rFMkmJGU0"
      },
      "execution_count": null,
      "outputs": []
    },
    {
      "cell_type": "markdown",
      "source": [
        "#### **CONSIDERAÇÕES**"
      ],
      "metadata": {
        "id": "xIP2DoACa7of"
      }
    },
    {
      "cell_type": "markdown",
      "source": [
        "Neste tutorial, você aprendeu a utilizar a API do GitHub em Python para interagir com a plataforma GitHub de forma programática. Vamos recapitular os principais pontos abordados:"
      ],
      "metadata": {
        "id": "dCRN197XbcQH"
      }
    },
    {
      "cell_type": "markdown",
      "source": [
        "**Resumo dos Tópicos Abordados:**"
      ],
      "metadata": {
        "id": "fitxFwCpKyCw"
      }
    },
    {
      "cell_type": "markdown",
      "source": [
        "**1.**   **Configuração Inicial:** Definimos a base_url e o cabeçalho (header) que são essenciais para fazer solicitações à API. Certificamo-nos de que os leitores tenham um ambiente de trabalho bem configurado no Google Colab.\n",
        "\n",
        "**2.**   **Autenticação:** Explicamos a importância de obter um token de acesso pessoal e como usá-lo no cabeçalho (header) para autenticação nas solicitações.\n",
        "\n",
        "**3.**   **Utilização Básica da API:** Demonstramos como fazer uma solicitação simples à API do GitHub, processar a resposta da API e exibir os resultados.\n",
        "\n",
        "**4.**      **Exemplos Práticos:** Nesta seção, apresentamos exemplos práticos de como utilizar a API do GitHub em Python\n",
        "\n",
        "\n",
        "\n"
      ],
      "metadata": {
        "id": "_YltRL4xKDm0"
      }
    },
    {
      "cell_type": "markdown",
      "source": [
        "**REFERÊNCIAS**\n",
        "\n",
        "---\n",
        "\n"
      ],
      "metadata": {
        "id": "DJa20CJRpQ7t"
      }
    },
    {
      "cell_type": "markdown",
      "source": [
        "**1.** **Documentação Oficial da API do GitHub:** [API do GitHub v3](https://docs.github.com/en/get-started): A documentação oficial da API do GitHub fornece detalhes completos sobre os endpoints, autenticação e uso de recursos específicos.\n",
        "\n",
        "**2. Biblioteca requests em Python:** [Documentação da biblioteca requests](https://docs.python-requests.org/en/latest/): Para obter informações detalhadas sobre o uso da biblioteca requests para fazer solicitações HTTP em Python.\n",
        "\n",
        "**3. Biblioteca json em Python:** [Documentação da biblioteca json](https://docs.python.org/3/library/json.html): Explore a documentação oficial da biblioteca json para trabalhar com dados JSON em Python."
      ],
      "metadata": {
        "id": "GxpuIOR3pUWr"
      }
    }
  ]
}